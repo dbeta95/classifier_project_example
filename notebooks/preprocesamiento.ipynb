{
 "cells": [
  {
   "cell_type": "code",
   "execution_count": 12,
   "metadata": {},
   "outputs": [],
   "source": [
    "import os\n",
    "import sys\n",
    "\n",
    "import pandas as pd\n",
    "import numpy as np\n",
    "\n",
    "home_path = os.path.dirname(os.getcwd())\n",
    "sys.path.append(home_path)\n",
    "\n",
    "surce_path = os.path.join(os.path.dirname(os.getcwd()),'src')\n",
    "sys.path.append(home_path)\n",
    "\n",
    "from src.data_management import obtener_datos"
   ]
  },
  {
   "attachments": {},
   "cell_type": "markdown",
   "metadata": {},
   "source": [
    "## Preprocesamiento de datos"
   ]
  },
  {
   "cell_type": "code",
   "execution_count": 13,
   "metadata": {},
   "outputs": [
    {
     "data": {
      "text/html": [
       "<div>\n",
       "<style scoped>\n",
       "    .dataframe tbody tr th:only-of-type {\n",
       "        vertical-align: middle;\n",
       "    }\n",
       "\n",
       "    .dataframe tbody tr th {\n",
       "        vertical-align: top;\n",
       "    }\n",
       "\n",
       "    .dataframe thead th {\n",
       "        text-align: right;\n",
       "    }\n",
       "</style>\n",
       "<table border=\"1\" class=\"dataframe\">\n",
       "  <thead>\n",
       "    <tr style=\"text-align: right;\">\n",
       "      <th></th>\n",
       "      <th>Cupo_TC</th>\n",
       "      <th>SEX</th>\n",
       "      <th>EDUCATION</th>\n",
       "      <th>MARRIAGE</th>\n",
       "      <th>AGE</th>\n",
       "      <th>RETRASO_PAGO_ESTADO_4</th>\n",
       "      <th>RETRASO_PAGO_ESTADO_5</th>\n",
       "      <th>RETRASO_PAGO_ESTADO_6</th>\n",
       "      <th>RETRASO_PAGO_ESTADO_7</th>\n",
       "      <th>RETRASO_PAGO_ESTADO_8</th>\n",
       "      <th>...</th>\n",
       "      <th>DEUDA_MES_7</th>\n",
       "      <th>DEUDA_MES_8</th>\n",
       "      <th>DEUDA_MES_9</th>\n",
       "      <th>PAGO_MES_4</th>\n",
       "      <th>PAGO_MES_5</th>\n",
       "      <th>PAGO_MES_6</th>\n",
       "      <th>PAGO_MES_7</th>\n",
       "      <th>PAGO_MES_8</th>\n",
       "      <th>PAGO_MES_9</th>\n",
       "      <th>default payment next month</th>\n",
       "    </tr>\n",
       "    <tr>\n",
       "      <th>CLIENT_ID</th>\n",
       "      <th></th>\n",
       "      <th></th>\n",
       "      <th></th>\n",
       "      <th></th>\n",
       "      <th></th>\n",
       "      <th></th>\n",
       "      <th></th>\n",
       "      <th></th>\n",
       "      <th></th>\n",
       "      <th></th>\n",
       "      <th></th>\n",
       "      <th></th>\n",
       "      <th></th>\n",
       "      <th></th>\n",
       "      <th></th>\n",
       "      <th></th>\n",
       "      <th></th>\n",
       "      <th></th>\n",
       "      <th></th>\n",
       "      <th></th>\n",
       "      <th></th>\n",
       "    </tr>\n",
       "  </thead>\n",
       "  <tbody>\n",
       "    <tr>\n",
       "      <th>29c55f5f-0da7-43ec-ba1b-b60592689825</th>\n",
       "      <td>270000</td>\n",
       "      <td>Femenino</td>\n",
       "      <td>universidad</td>\n",
       "      <td>Casado</td>\n",
       "      <td>28</td>\n",
       "      <td>0</td>\n",
       "      <td>0</td>\n",
       "      <td>0</td>\n",
       "      <td>0</td>\n",
       "      <td>0</td>\n",
       "      <td>...</td>\n",
       "      <td>308133</td>\n",
       "      <td>298700</td>\n",
       "      <td>322249</td>\n",
       "      <td>5000</td>\n",
       "      <td>4000</td>\n",
       "      <td>5000</td>\n",
       "      <td>12000</td>\n",
       "      <td>13000</td>\n",
       "      <td>10000</td>\n",
       "      <td>0</td>\n",
       "    </tr>\n",
       "    <tr>\n",
       "      <th>f818136a-138f-4578-a0bb-41605b67e0e5</th>\n",
       "      <td>80000</td>\n",
       "      <td>Femenino</td>\n",
       "      <td>colegio</td>\n",
       "      <td>soltero_a</td>\n",
       "      <td>52</td>\n",
       "      <td>-1</td>\n",
       "      <td>0</td>\n",
       "      <td>0</td>\n",
       "      <td>0</td>\n",
       "      <td>0</td>\n",
       "      <td>...</td>\n",
       "      <td>36060</td>\n",
       "      <td>39508</td>\n",
       "      <td>42635</td>\n",
       "      <td>0</td>\n",
       "      <td>7432</td>\n",
       "      <td>366</td>\n",
       "      <td>1200</td>\n",
       "      <td>1740</td>\n",
       "      <td>1623</td>\n",
       "      <td>0</td>\n",
       "    </tr>\n",
       "    <tr>\n",
       "      <th>bef609a9-f9c5-4870-be7f-cb20e70f7e92</th>\n",
       "      <td>210000</td>\n",
       "      <td>Femenino</td>\n",
       "      <td>universidad</td>\n",
       "      <td>Casado</td>\n",
       "      <td>36</td>\n",
       "      <td>0</td>\n",
       "      <td>0</td>\n",
       "      <td>0</td>\n",
       "      <td>0</td>\n",
       "      <td>0</td>\n",
       "      <td>...</td>\n",
       "      <td>144415</td>\n",
       "      <td>142996</td>\n",
       "      <td>143225</td>\n",
       "      <td>4700</td>\n",
       "      <td>4544</td>\n",
       "      <td>5900</td>\n",
       "      <td>6000</td>\n",
       "      <td>5082</td>\n",
       "      <td>6483</td>\n",
       "      <td>0</td>\n",
       "    </tr>\n",
       "    <tr>\n",
       "      <th>2ba3a218-4792-4672-82c7-4b0953101d41</th>\n",
       "      <td>230000</td>\n",
       "      <td>Femenino</td>\n",
       "      <td>colegio</td>\n",
       "      <td>Casado</td>\n",
       "      <td>44</td>\n",
       "      <td>-1</td>\n",
       "      <td>-1</td>\n",
       "      <td>-1</td>\n",
       "      <td>-1</td>\n",
       "      <td>-1</td>\n",
       "      <td>...</td>\n",
       "      <td>4987</td>\n",
       "      <td>11632</td>\n",
       "      <td>54798</td>\n",
       "      <td>17007</td>\n",
       "      <td>17425</td>\n",
       "      <td>15121</td>\n",
       "      <td>6222</td>\n",
       "      <td>4987</td>\n",
       "      <td>11632</td>\n",
       "      <td>0</td>\n",
       "    </tr>\n",
       "    <tr>\n",
       "      <th>723e61b4-d151-4368-b129-468417fd930c</th>\n",
       "      <td>130000</td>\n",
       "      <td>Femenino</td>\n",
       "      <td>Posgrado</td>\n",
       "      <td>Casado</td>\n",
       "      <td>36</td>\n",
       "      <td>0</td>\n",
       "      <td>0</td>\n",
       "      <td>0</td>\n",
       "      <td>0</td>\n",
       "      <td>0</td>\n",
       "      <td>...</td>\n",
       "      <td>103942</td>\n",
       "      <td>107070</td>\n",
       "      <td>129689</td>\n",
       "      <td>4000</td>\n",
       "      <td>3500</td>\n",
       "      <td>4000</td>\n",
       "      <td>5000</td>\n",
       "      <td>4400</td>\n",
       "      <td>5000</td>\n",
       "      <td>0</td>\n",
       "    </tr>\n",
       "    <tr>\n",
       "      <th>f689cc58-4331-40ba-ae4b-c43e649cb9e8</th>\n",
       "      <td>470000</td>\n",
       "      <td>Femenino</td>\n",
       "      <td>universidad</td>\n",
       "      <td>Casado</td>\n",
       "      <td>35</td>\n",
       "      <td>0</td>\n",
       "      <td>0</td>\n",
       "      <td>0</td>\n",
       "      <td>0</td>\n",
       "      <td>0</td>\n",
       "      <td>...</td>\n",
       "      <td>59307</td>\n",
       "      <td>57920</td>\n",
       "      <td>64875</td>\n",
       "      <td>1600</td>\n",
       "      <td>3000</td>\n",
       "      <td>2200</td>\n",
       "      <td>3016</td>\n",
       "      <td>3000</td>\n",
       "      <td>2505</td>\n",
       "      <td>0</td>\n",
       "    </tr>\n",
       "    <tr>\n",
       "      <th>5366b666-0978-4843-9ad0-a23993b94edd</th>\n",
       "      <td>800000</td>\n",
       "      <td>Masculino</td>\n",
       "      <td>universidad</td>\n",
       "      <td>Casado</td>\n",
       "      <td>53</td>\n",
       "      <td>-1</td>\n",
       "      <td>0</td>\n",
       "      <td>0</td>\n",
       "      <td>-1</td>\n",
       "      <td>-1</td>\n",
       "      <td>...</td>\n",
       "      <td>64535</td>\n",
       "      <td>5552</td>\n",
       "      <td>7639</td>\n",
       "      <td>63482</td>\n",
       "      <td>9366</td>\n",
       "      <td>247</td>\n",
       "      <td>131</td>\n",
       "      <td>64657</td>\n",
       "      <td>11145</td>\n",
       "      <td>0</td>\n",
       "    </tr>\n",
       "    <tr>\n",
       "      <th>92825b72-b828-419b-b2b1-0c4791769558</th>\n",
       "      <td>20000</td>\n",
       "      <td>Masculino</td>\n",
       "      <td>universidad</td>\n",
       "      <td>soltero_a</td>\n",
       "      <td>30</td>\n",
       "      <td>0</td>\n",
       "      <td>0</td>\n",
       "      <td>0</td>\n",
       "      <td>0</td>\n",
       "      <td>0</td>\n",
       "      <td>...</td>\n",
       "      <td>19812</td>\n",
       "      <td>20221</td>\n",
       "      <td>19149</td>\n",
       "      <td>399</td>\n",
       "      <td>2000</td>\n",
       "      <td>3000</td>\n",
       "      <td>1000</td>\n",
       "      <td>1201</td>\n",
       "      <td>1392</td>\n",
       "      <td>0</td>\n",
       "    </tr>\n",
       "    <tr>\n",
       "      <th>bd9b31c5-e0d6-4555-afab-ed6753d6afb8</th>\n",
       "      <td>40000</td>\n",
       "      <td>Masculino</td>\n",
       "      <td>colegio</td>\n",
       "      <td>soltero_a</td>\n",
       "      <td>43</td>\n",
       "      <td>7</td>\n",
       "      <td>7</td>\n",
       "      <td>7</td>\n",
       "      <td>7</td>\n",
       "      <td>2</td>\n",
       "      <td>...</td>\n",
       "      <td>2400</td>\n",
       "      <td>2400</td>\n",
       "      <td>2400</td>\n",
       "      <td>0</td>\n",
       "      <td>0</td>\n",
       "      <td>0</td>\n",
       "      <td>0</td>\n",
       "      <td>0</td>\n",
       "      <td>0</td>\n",
       "      <td>1</td>\n",
       "    </tr>\n",
       "    <tr>\n",
       "      <th>2c304969-82e6-4981-b2e2-af1f1977b47f</th>\n",
       "      <td>10000</td>\n",
       "      <td>Masculino</td>\n",
       "      <td>universidad</td>\n",
       "      <td>soltero_a</td>\n",
       "      <td>23</td>\n",
       "      <td>7</td>\n",
       "      <td>7</td>\n",
       "      <td>7</td>\n",
       "      <td>7</td>\n",
       "      <td>2</td>\n",
       "      <td>...</td>\n",
       "      <td>2400</td>\n",
       "      <td>2400</td>\n",
       "      <td>2400</td>\n",
       "      <td>0</td>\n",
       "      <td>0</td>\n",
       "      <td>0</td>\n",
       "      <td>0</td>\n",
       "      <td>0</td>\n",
       "      <td>0</td>\n",
       "      <td>1</td>\n",
       "    </tr>\n",
       "  </tbody>\n",
       "</table>\n",
       "<p>10 rows × 24 columns</p>\n",
       "</div>"
      ],
      "text/plain": [
       "                                      Cupo_TC        SEX    EDUCATION  \\\n",
       "CLIENT_ID                                                               \n",
       "29c55f5f-0da7-43ec-ba1b-b60592689825   270000   Femenino  universidad   \n",
       "f818136a-138f-4578-a0bb-41605b67e0e5    80000   Femenino      colegio   \n",
       "bef609a9-f9c5-4870-be7f-cb20e70f7e92   210000   Femenino  universidad   \n",
       "2ba3a218-4792-4672-82c7-4b0953101d41   230000   Femenino      colegio   \n",
       "723e61b4-d151-4368-b129-468417fd930c   130000   Femenino     Posgrado   \n",
       "f689cc58-4331-40ba-ae4b-c43e649cb9e8   470000   Femenino  universidad   \n",
       "5366b666-0978-4843-9ad0-a23993b94edd   800000  Masculino  universidad   \n",
       "92825b72-b828-419b-b2b1-0c4791769558    20000  Masculino  universidad   \n",
       "bd9b31c5-e0d6-4555-afab-ed6753d6afb8    40000  Masculino      colegio   \n",
       "2c304969-82e6-4981-b2e2-af1f1977b47f    10000  Masculino  universidad   \n",
       "\n",
       "                                       MARRIAGE  AGE  RETRASO_PAGO_ESTADO_4  \\\n",
       "CLIENT_ID                                                                     \n",
       "29c55f5f-0da7-43ec-ba1b-b60592689825     Casado   28                      0   \n",
       "f818136a-138f-4578-a0bb-41605b67e0e5  soltero_a   52                     -1   \n",
       "bef609a9-f9c5-4870-be7f-cb20e70f7e92     Casado   36                      0   \n",
       "2ba3a218-4792-4672-82c7-4b0953101d41     Casado   44                     -1   \n",
       "723e61b4-d151-4368-b129-468417fd930c     Casado   36                      0   \n",
       "f689cc58-4331-40ba-ae4b-c43e649cb9e8     Casado   35                      0   \n",
       "5366b666-0978-4843-9ad0-a23993b94edd     Casado   53                     -1   \n",
       "92825b72-b828-419b-b2b1-0c4791769558  soltero_a   30                      0   \n",
       "bd9b31c5-e0d6-4555-afab-ed6753d6afb8  soltero_a   43                      7   \n",
       "2c304969-82e6-4981-b2e2-af1f1977b47f  soltero_a   23                      7   \n",
       "\n",
       "                                      RETRASO_PAGO_ESTADO_5  \\\n",
       "CLIENT_ID                                                     \n",
       "29c55f5f-0da7-43ec-ba1b-b60592689825                      0   \n",
       "f818136a-138f-4578-a0bb-41605b67e0e5                      0   \n",
       "bef609a9-f9c5-4870-be7f-cb20e70f7e92                      0   \n",
       "2ba3a218-4792-4672-82c7-4b0953101d41                     -1   \n",
       "723e61b4-d151-4368-b129-468417fd930c                      0   \n",
       "f689cc58-4331-40ba-ae4b-c43e649cb9e8                      0   \n",
       "5366b666-0978-4843-9ad0-a23993b94edd                      0   \n",
       "92825b72-b828-419b-b2b1-0c4791769558                      0   \n",
       "bd9b31c5-e0d6-4555-afab-ed6753d6afb8                      7   \n",
       "2c304969-82e6-4981-b2e2-af1f1977b47f                      7   \n",
       "\n",
       "                                      RETRASO_PAGO_ESTADO_6  \\\n",
       "CLIENT_ID                                                     \n",
       "29c55f5f-0da7-43ec-ba1b-b60592689825                      0   \n",
       "f818136a-138f-4578-a0bb-41605b67e0e5                      0   \n",
       "bef609a9-f9c5-4870-be7f-cb20e70f7e92                      0   \n",
       "2ba3a218-4792-4672-82c7-4b0953101d41                     -1   \n",
       "723e61b4-d151-4368-b129-468417fd930c                      0   \n",
       "f689cc58-4331-40ba-ae4b-c43e649cb9e8                      0   \n",
       "5366b666-0978-4843-9ad0-a23993b94edd                      0   \n",
       "92825b72-b828-419b-b2b1-0c4791769558                      0   \n",
       "bd9b31c5-e0d6-4555-afab-ed6753d6afb8                      7   \n",
       "2c304969-82e6-4981-b2e2-af1f1977b47f                      7   \n",
       "\n",
       "                                      RETRASO_PAGO_ESTADO_7  \\\n",
       "CLIENT_ID                                                     \n",
       "29c55f5f-0da7-43ec-ba1b-b60592689825                      0   \n",
       "f818136a-138f-4578-a0bb-41605b67e0e5                      0   \n",
       "bef609a9-f9c5-4870-be7f-cb20e70f7e92                      0   \n",
       "2ba3a218-4792-4672-82c7-4b0953101d41                     -1   \n",
       "723e61b4-d151-4368-b129-468417fd930c                      0   \n",
       "f689cc58-4331-40ba-ae4b-c43e649cb9e8                      0   \n",
       "5366b666-0978-4843-9ad0-a23993b94edd                     -1   \n",
       "92825b72-b828-419b-b2b1-0c4791769558                      0   \n",
       "bd9b31c5-e0d6-4555-afab-ed6753d6afb8                      7   \n",
       "2c304969-82e6-4981-b2e2-af1f1977b47f                      7   \n",
       "\n",
       "                                      RETRASO_PAGO_ESTADO_8  ...  DEUDA_MES_7  \\\n",
       "CLIENT_ID                                                    ...                \n",
       "29c55f5f-0da7-43ec-ba1b-b60592689825                      0  ...       308133   \n",
       "f818136a-138f-4578-a0bb-41605b67e0e5                      0  ...        36060   \n",
       "bef609a9-f9c5-4870-be7f-cb20e70f7e92                      0  ...       144415   \n",
       "2ba3a218-4792-4672-82c7-4b0953101d41                     -1  ...         4987   \n",
       "723e61b4-d151-4368-b129-468417fd930c                      0  ...       103942   \n",
       "f689cc58-4331-40ba-ae4b-c43e649cb9e8                      0  ...        59307   \n",
       "5366b666-0978-4843-9ad0-a23993b94edd                     -1  ...        64535   \n",
       "92825b72-b828-419b-b2b1-0c4791769558                      0  ...        19812   \n",
       "bd9b31c5-e0d6-4555-afab-ed6753d6afb8                      2  ...         2400   \n",
       "2c304969-82e6-4981-b2e2-af1f1977b47f                      2  ...         2400   \n",
       "\n",
       "                                      DEUDA_MES_8  DEUDA_MES_9  PAGO_MES_4  \\\n",
       "CLIENT_ID                                                                    \n",
       "29c55f5f-0da7-43ec-ba1b-b60592689825       298700       322249        5000   \n",
       "f818136a-138f-4578-a0bb-41605b67e0e5        39508        42635           0   \n",
       "bef609a9-f9c5-4870-be7f-cb20e70f7e92       142996       143225        4700   \n",
       "2ba3a218-4792-4672-82c7-4b0953101d41        11632        54798       17007   \n",
       "723e61b4-d151-4368-b129-468417fd930c       107070       129689        4000   \n",
       "f689cc58-4331-40ba-ae4b-c43e649cb9e8        57920        64875        1600   \n",
       "5366b666-0978-4843-9ad0-a23993b94edd         5552         7639       63482   \n",
       "92825b72-b828-419b-b2b1-0c4791769558        20221        19149         399   \n",
       "bd9b31c5-e0d6-4555-afab-ed6753d6afb8         2400         2400           0   \n",
       "2c304969-82e6-4981-b2e2-af1f1977b47f         2400         2400           0   \n",
       "\n",
       "                                      PAGO_MES_5  PAGO_MES_6  PAGO_MES_7  \\\n",
       "CLIENT_ID                                                                  \n",
       "29c55f5f-0da7-43ec-ba1b-b60592689825        4000        5000       12000   \n",
       "f818136a-138f-4578-a0bb-41605b67e0e5        7432         366        1200   \n",
       "bef609a9-f9c5-4870-be7f-cb20e70f7e92        4544        5900        6000   \n",
       "2ba3a218-4792-4672-82c7-4b0953101d41       17425       15121        6222   \n",
       "723e61b4-d151-4368-b129-468417fd930c        3500        4000        5000   \n",
       "f689cc58-4331-40ba-ae4b-c43e649cb9e8        3000        2200        3016   \n",
       "5366b666-0978-4843-9ad0-a23993b94edd        9366         247         131   \n",
       "92825b72-b828-419b-b2b1-0c4791769558        2000        3000        1000   \n",
       "bd9b31c5-e0d6-4555-afab-ed6753d6afb8           0           0           0   \n",
       "2c304969-82e6-4981-b2e2-af1f1977b47f           0           0           0   \n",
       "\n",
       "                                      PAGO_MES_8  PAGO_MES_9  \\\n",
       "CLIENT_ID                                                      \n",
       "29c55f5f-0da7-43ec-ba1b-b60592689825       13000       10000   \n",
       "f818136a-138f-4578-a0bb-41605b67e0e5        1740        1623   \n",
       "bef609a9-f9c5-4870-be7f-cb20e70f7e92        5082        6483   \n",
       "2ba3a218-4792-4672-82c7-4b0953101d41        4987       11632   \n",
       "723e61b4-d151-4368-b129-468417fd930c        4400        5000   \n",
       "f689cc58-4331-40ba-ae4b-c43e649cb9e8        3000        2505   \n",
       "5366b666-0978-4843-9ad0-a23993b94edd       64657       11145   \n",
       "92825b72-b828-419b-b2b1-0c4791769558        1201        1392   \n",
       "bd9b31c5-e0d6-4555-afab-ed6753d6afb8           0           0   \n",
       "2c304969-82e6-4981-b2e2-af1f1977b47f           0           0   \n",
       "\n",
       "                                      default payment next month  \n",
       "CLIENT_ID                                                         \n",
       "29c55f5f-0da7-43ec-ba1b-b60592689825                           0  \n",
       "f818136a-138f-4578-a0bb-41605b67e0e5                           0  \n",
       "bef609a9-f9c5-4870-be7f-cb20e70f7e92                           0  \n",
       "2ba3a218-4792-4672-82c7-4b0953101d41                           0  \n",
       "723e61b4-d151-4368-b129-468417fd930c                           0  \n",
       "f689cc58-4331-40ba-ae4b-c43e649cb9e8                           0  \n",
       "5366b666-0978-4843-9ad0-a23993b94edd                           0  \n",
       "92825b72-b828-419b-b2b1-0c4791769558                           0  \n",
       "bd9b31c5-e0d6-4555-afab-ed6753d6afb8                           1  \n",
       "2c304969-82e6-4981-b2e2-af1f1977b47f                           1  \n",
       "\n",
       "[10 rows x 24 columns]"
      ]
     },
     "execution_count": 13,
     "metadata": {},
     "output_type": "execute_result"
    }
   ],
   "source": [
    "path_etiquetas = os.path.join(home_path, 'data', 'etiquetas.csv')\n",
    "path_info_clientes = os.path.join(home_path, 'data', 'informacion_clientes.csv')\n",
    "path_hist_transacciones = os.path.join(home_path, 'data', 'historial_transacciones.csv')\n",
    "\n",
    "df = obtener_datos(path_etiquetas, path_info_clientes, path_hist_transacciones)\n",
    "df.head(10)"
   ]
  },
  {
   "cell_type": "code",
   "execution_count": 14,
   "metadata": {},
   "outputs": [],
   "source": [
    "data = df.to_numpy()"
   ]
  },
  {
   "cell_type": "code",
   "execution_count": 36,
   "metadata": {},
   "outputs": [
    {
     "data": {
      "text/plain": [
       "array([[270000, 'Femenino', 'universidad', ..., 12000, 13000, 10000],\n",
       "       [80000, 'Femenino', 'colegio', ..., 1200, 1740, 1623],\n",
       "       [210000, 'Femenino', 'universidad', ..., 6000, 5082, 6483],\n",
       "       ...,\n",
       "       [180000, 'Masculino', 'universidad', ..., 2200, 1400, 0],\n",
       "       [320000, 'Masculino', 'universidad', ..., 739, 1224, 1353],\n",
       "       [260000, 'Femenino', 'universidad', ..., 0, 0, 1085]], dtype=object)"
      ]
     },
     "execution_count": 36,
     "metadata": {},
     "output_type": "execute_result"
    }
   ],
   "source": [
    "X,y = data[:,:-1], data[:,-1].astype('int')\n",
    "X"
   ]
  },
  {
   "cell_type": "code",
   "execution_count": 37,
   "metadata": {},
   "outputs": [
    {
     "data": {
      "text/plain": [
       "array([0, 0, 0, ..., 0, 0, 0])"
      ]
     },
     "execution_count": 37,
     "metadata": {},
     "output_type": "execute_result"
    }
   ],
   "source": [
    "y\n"
   ]
  },
  {
   "attachments": {},
   "cell_type": "markdown",
   "metadata": {},
   "source": [
    "### Enconding de variables categoricas "
   ]
  },
  {
   "cell_type": "code",
   "execution_count": 17,
   "metadata": {},
   "outputs": [],
   "source": [
    "from sklearn.preprocessing import LabelEncoder,OneHotEncoder\n",
    "\n",
    "label_encoder = LabelEncoder()\n",
    "onehot_encoder = OneHotEncoder(sparse=False)\n",
    "genero = data[:,1]\n",
    "int_encoded = label_encoder.fit_transform(genero)"
   ]
  },
  {
   "cell_type": "code",
   "execution_count": 18,
   "metadata": {},
   "outputs": [
    {
     "data": {
      "text/plain": [
       "array([0, 0, 0, ..., 1, 1, 0])"
      ]
     },
     "execution_count": 18,
     "metadata": {},
     "output_type": "execute_result"
    }
   ],
   "source": [
    "int_encoded"
   ]
  },
  {
   "cell_type": "code",
   "execution_count": 9,
   "metadata": {},
   "outputs": [
    {
     "data": {
      "text/plain": [
       "array(['Femenino', 'Femenino', 'Femenino', ..., 'Masculino', 'Masculino',\n",
       "       'Femenino'], dtype=object)"
      ]
     },
     "execution_count": 9,
     "metadata": {},
     "output_type": "execute_result"
    }
   ],
   "source": [
    "label_encoder.inverse_transform(int_encoded)"
   ]
  },
  {
   "cell_type": "code",
   "execution_count": 15,
   "metadata": {},
   "outputs": [
    {
     "data": {
      "text/plain": [
       "array([[1., 0.],\n",
       "       [1., 0.],\n",
       "       [1., 0.],\n",
       "       ...,\n",
       "       [0., 1.],\n",
       "       [0., 1.],\n",
       "       [1., 0.]])"
      ]
     },
     "execution_count": 15,
     "metadata": {},
     "output_type": "execute_result"
    }
   ],
   "source": [
    "int_encoded = int_encoded.reshape(-1,1)\n",
    "onehot_encoded = onehot_encoder.fit_transform(int_encoded)\n",
    "onehot_encoded"
   ]
  },
  {
   "cell_type": "code",
   "execution_count": 20,
   "metadata": {},
   "outputs": [
    {
     "data": {
      "text/plain": [
       "array(['Femenino', 'Femenino', 'Femenino', ..., 'Masculino', 'Masculino',\n",
       "       'Femenino'], dtype=object)"
      ]
     },
     "execution_count": 20,
     "metadata": {},
     "output_type": "execute_result"
    }
   ],
   "source": [
    "label_encoder.inverse_transform(onehot_encoder.inverse_transform(onehot_encoded).reshape(-1,))\n"
   ]
  },
  {
   "cell_type": "code",
   "execution_count": 19,
   "metadata": {},
   "outputs": [],
   "source": [
    "class CategoricalEncoder():\n",
    "    \"\"\"\n",
    "    Clase que define un calsificador que realiza una transformación de una variable categorica a multiples\n",
    "    variables dummy (One Hot enconding) y devuelve el codigicador y la codificación\n",
    "\n",
    "    \"\"\"\n",
    "\n",
    "    def __init__(self)->None:\n",
    "        \"\"\"\n",
    "        Método de instanciación de clase\n",
    "        \"\"\"\n",
    "        self.label_encoder = LabelEncoder()\n",
    "        self.onehot_encoder = OneHotEncoder(sparse=False)\n",
    "\n",
    "    def fit(self, x:np.ndarray) -> None:\n",
    "        \"\"\"\n",
    "        Método de ajuste del encoder.\n",
    "        \n",
    "        Args:\n",
    "        ----------\n",
    "        x:np.ndarray\n",
    "            Arreglo unidimensional con las observaciones de la variable categorica\n",
    "        \"\"\"\n",
    "        label_encoded = self.label_encoder.fit_transform(x).reshape(-1,1)\n",
    "        onehot_encoder.fit(label_encoded)\n",
    "\n",
    "    def fit_transform(self, x:np.ndarray) -> np.ndarray:\n",
    "        \"\"\"\n",
    "        Método de ajuste del encoder y transformación de las observaciones de la variable\n",
    "        categorica.\n",
    "        \n",
    "        Args:\n",
    "        ----------\n",
    "        x:np.ndarray\n",
    "            Arreglo unidimensional con las observaciones de la variable categorica\n",
    "\n",
    "        Results:\n",
    "        ---------\n",
    "        np.ndarray\n",
    "            Arreglo multidimensional con el resultado de la transformación\n",
    "        \"\"\"\n",
    "        label_encoded = self.label_encoder.fit_transform(x).reshape(-1,1)\n",
    "        onehot_encoded = onehot_encoder.fit_transform(label_encoded)\n",
    "\n",
    "        return onehot_encoded\n",
    "    \n",
    "    def transform(self, x:np.ndarray) -> np.ndarray:\n",
    "        \"\"\"\n",
    "        Método de transformación de las observaciones de la variable categorica.\n",
    "        \n",
    "        Args:\n",
    "        ----------\n",
    "        x:np.ndarray\n",
    "            Arreglo unidimensional con las observaciones de la variable categorica\n",
    "\n",
    "        Results:\n",
    "        ---------\n",
    "        np.ndarray\n",
    "            Arreglo multidimensional con el resultado de la transformación\n",
    "        \"\"\"\n",
    "        label_encoder = self.label_encoder.transform(x).reshape(-1,1)\n",
    "        onehot_encoded = onehot_encoder.transform(label_encoder)\n",
    "\n",
    "        return onehot_encoded\n",
    "    \n",
    "    def inverse_transform(self, X:np.ndarray) -> np.ndarray:   \n",
    "        \"\"\"\n",
    "        Método de transformación inversa de las codificaciones a la variable original.\n",
    "        \n",
    "        Args:\n",
    "        ----------\n",
    "        X:np.ndarray\n",
    "            Arreglo multidimensional con el resultado de la transformación           \n",
    "\n",
    "        Results:\n",
    "        ---------\n",
    "        np.ndarray\n",
    "            Arreglo unidimensional con las observaciones de la variable categorica\n",
    "        \"\"\"\n",
    "\n",
    "        return label_encoder.inverse_transform(onehot_encoder.inverse_transform(X).reshape(-1,))"
   ]
  },
  {
   "cell_type": "code",
   "execution_count": 20,
   "metadata": {},
   "outputs": [],
   "source": [
    "genero\n",
    "genero_encoder = CategoricalEncoder()\n",
    "genero_encoded = genero_encoder.fit_transform(genero)"
   ]
  },
  {
   "cell_type": "code",
   "execution_count": 32,
   "metadata": {},
   "outputs": [
    {
     "data": {
      "text/plain": [
       "array([[270000, 'Femenino', 'universidad', ..., 10000, 1.0, 0.0],\n",
       "       [80000, 'Femenino', 'colegio', ..., 1623, 1.0, 0.0],\n",
       "       [210000, 'Femenino', 'universidad', ..., 6483, 1.0, 0.0],\n",
       "       ...,\n",
       "       [180000, 'Masculino', 'universidad', ..., 0, 0.0, 1.0],\n",
       "       [320000, 'Masculino', 'universidad', ..., 1353, 0.0, 1.0],\n",
       "       [260000, 'Femenino', 'universidad', ..., 1085, 1.0, 0.0]],\n",
       "      dtype=object)"
      ]
     },
     "execution_count": 32,
     "metadata": {},
     "output_type": "execute_result"
    }
   ],
   "source": [
    "np.concatenate([X,genero_encoded], axis = 1)"
   ]
  },
  {
   "cell_type": "code",
   "execution_count": 21,
   "metadata": {},
   "outputs": [],
   "source": [
    "from typing import List\n",
    "\n",
    "def codificar_categoricas(\n",
    "        X:np.ndarray\n",
    "    ):\n",
    "    \"\"\"\n",
    "    Función que codifica las variables categoricas del conjunto de datos\n",
    "    en columnas de variables indicadoras\n",
    "\n",
    "    Args:\n",
    "    ----------\n",
    "        X:np.ndarray\n",
    "            Arreglo multidimensional con las observaciones de las variables independientes\n",
    "        var_columns:List[int]\n",
    "            Lista con los indices columna de las variables categoricas a codificar\n",
    "        encoders:List[CategoricalEncoder]\n",
    "            Lista con los encoders de las columnas previamente ajustados\n",
    "    \"\"\"\n",
    "    genero = X[:,1]\n",
    "    genero_encoder = CategoricalEncoder()\n",
    "    genero_encoded = genero_encoder.fit_transform(genero)\n",
    "\n",
    "    educacion = X[:,2]\n",
    "    educacion_encoder = CategoricalEncoder()\n",
    "    educacion_encoded = educacion_encoder.fit_transform(educacion)\n",
    "\n",
    "    estado_civil = X[:,3]\n",
    "    estado_civil_encoder = CategoricalEncoder()\n",
    "    estado_civil_encoded = estado_civil_encoder.fit_transform(estado_civil)\n",
    "\n",
    "    X = np.delete(X,[1,2,3],1)\n",
    "    X = np.concatenate([X,genero_encoded], axis=1)\n",
    "    X = np.concatenate([X,educacion_encoded], axis=1)\n",
    "    X = np.concatenate([X,estado_civil_encoded], axis=1)\n",
    "    \n",
    "    return X\n"
   ]
  },
  {
   "cell_type": "code",
   "execution_count": 22,
   "metadata": {},
   "outputs": [],
   "source": [
    "X_encoded = codificar_categoricas(X)"
   ]
  },
  {
   "cell_type": "code",
   "execution_count": 23,
   "metadata": {},
   "outputs": [
    {
     "data": {
      "text/plain": [
       "(24000, 33)"
      ]
     },
     "execution_count": 23,
     "metadata": {},
     "output_type": "execute_result"
    }
   ],
   "source": [
    "X_encoded.shape"
   ]
  },
  {
   "cell_type": "code",
   "execution_count": 24,
   "metadata": {},
   "outputs": [
    {
     "data": {
      "text/plain": [
       "(24000, 23)"
      ]
     },
     "execution_count": 24,
     "metadata": {},
     "output_type": "execute_result"
    }
   ],
   "source": [
    "X.shape"
   ]
  },
  {
   "attachments": {},
   "cell_type": "markdown",
   "metadata": {},
   "source": [
    "## Escalando las covariables "
   ]
  },
  {
   "cell_type": "code",
   "execution_count": 40,
   "metadata": {},
   "outputs": [],
   "source": [
    "from sklearn.preprocessing import StandardScaler\n",
    "\n",
    "scaler = StandardScaler()\n",
    "X = scaler.fit_transform(X_encoded)"
   ]
  },
  {
   "attachments": {},
   "cell_type": "markdown",
   "metadata": {},
   "source": [
    "## Datos de entrenamiento y prueba"
   ]
  },
  {
   "cell_type": "code",
   "execution_count": 41,
   "metadata": {},
   "outputs": [
    {
     "data": {
      "text/plain": [
       "(19200, 33)"
      ]
     },
     "execution_count": 41,
     "metadata": {},
     "output_type": "execute_result"
    }
   ],
   "source": [
    "from sklearn.model_selection import train_test_split\n",
    "\n",
    "X_train, X_test, y_train, y_test = train_test_split(X,y,test_size=0.20, random_state=1)\n",
    "\n",
    "X_train.shape"
   ]
  },
  {
   "cell_type": "code",
   "execution_count": 42,
   "metadata": {},
   "outputs": [
    {
     "data": {
      "text/plain": [
       "array([[-1.13754196,  0.38246756,  0.25514665, ..., -0.91632109,\n",
       "        -0.10155599,  0.93917928],\n",
       "       [-1.13754196,  1.03394592, -1.47833377, ...,  1.09132051,\n",
       "        -0.10155599, -1.06475944],\n",
       "       [ 2.24825754, -0.37759052,  0.25514665, ..., -0.91632109,\n",
       "        -0.10155599,  0.93917928],\n",
       "       ...,\n",
       "       [ 0.94010773,  0.27388784,  0.25514665, ...,  1.09132051,\n",
       "        -0.10155599, -1.06475944],\n",
       "       [-0.29109209, -0.92048916, -1.47833377, ..., -0.91632109,\n",
       "        -0.10155599,  0.93917928],\n",
       "       [ 1.86350759,  0.05672838, -0.61159356, ...,  1.09132051,\n",
       "        -0.10155599, -1.06475944]])"
      ]
     },
     "execution_count": 42,
     "metadata": {},
     "output_type": "execute_result"
    }
   ],
   "source": [
    "X_train"
   ]
  },
  {
   "attachments": {},
   "cell_type": "markdown",
   "metadata": {},
   "source": [
    "## Balanceo"
   ]
  },
  {
   "cell_type": "code",
   "execution_count": 43,
   "metadata": {},
   "outputs": [
    {
     "name": "stdout",
     "output_type": "stream",
     "text": [
      "Distribución de clases antes del balanceo:  Counter({0: 14953, 1: 4247})\n",
      "Distribución de clases con sobre muestreo:  Counter({1: 14953, 0: 14953})\n",
      "Distribución de clases con sub muestreo:  Counter({0: 4247, 1: 4247})\n"
     ]
    }
   ],
   "source": [
    "from imblearn.over_sampling import SMOTE\n",
    "from imblearn.under_sampling import RandomUnderSampler\n",
    "from collections import Counter \n",
    "\n",
    "over_sampler = SMOTE(random_state=1)\n",
    "under_sampler = RandomUnderSampler(random_state=1)\n",
    "\n",
    "print(\"Distribución de clases antes del balanceo: \", Counter(y_train))\n",
    "\n",
    "X_os, y_os = over_sampler.fit_resample(X_train, y_train)\n",
    "X_us, y_us = under_sampler.fit_resample(X_train, y_train)\n",
    "\n",
    "print(\"Distribución de clases con sobre muestreo: \", Counter(y_os))\n",
    "print(\"Distribución de clases con sub muestreo: \", Counter(y_us))"
   ]
  },
  {
   "attachments": {},
   "cell_type": "markdown",
   "metadata": {},
   "source": [
    "## Diseño de función de procesamiento en la clase del clasificador"
   ]
  },
  {
   "cell_type": "code",
   "execution_count": 50,
   "metadata": {},
   "outputs": [],
   "source": [
    "import os\n",
    "import sys\n",
    "\n",
    "import numpy as np\n",
    "\n",
    "from sklearn.preprocessing import LabelEncoder,OneHotEncoder,StandardScaler\n",
    "from sklearn.model_selection import train_test_split\n",
    "from imblearn.over_sampling import SMOTE\n",
    "from imblearn.under_sampling import RandomUnderSampler\n",
    "from collections import Counter\n",
    "from typing import Optional\n",
    "\n",
    "home_path = os.path.dirname(os.getcwd())\n",
    "sys.path.append(home_path)\n",
    "\n",
    "surce_path = os.path.join(os.path.dirname(os.getcwd()),'src')\n",
    "sys.path.append(home_path)\n",
    "\n",
    "from src.data_management import obtener_datos\n",
    "\n",
    "class ClasificadorMora():\n",
    "    \"\"\"\n",
    "    Clase que define el clasificador de mora y que arrojará las probabilidades\n",
    "    de mora y las etiquetas, así como métricas de evaluación\n",
    "    \"\"\"\n",
    "\n",
    "    def __init__(self,\n",
    "        path_etiquetas:str, \n",
    "        path_info_clientes:str, \n",
    "        path_hist_transacciones:str,\n",
    "        test_size:Optional[float]=0.2,\n",
    "        balance_strategy:Optional[str]=None\n",
    "    ):\n",
    "        \"\"\"\n",
    "        Método de instanciación de clase.\n",
    "\n",
    "        Args:\n",
    "        ----------\n",
    "        path_etiquetas:str\n",
    "            Archivo (con su ruta) en que se encuentran los clientes y su respectiva etiqueta de si entra o no en mora        \n",
    "        path_info_clientes:str\n",
    "            Archivo (con su ruta) en que se encuentra la información de los clientes\n",
    "        path_hist_transacciones:str\n",
    "            Archivo (con su ruta) en que se encuentra el historial transaccional de los últimos 6 meses del cliente\n",
    "        test_size:float\n",
    "            Proporción de elementos a incluir en el conjunto de evaluación\n",
    "        balance_srategy:Optional[str]=None\n",
    "            Estrategia de balanceo si se desea usar una. Las opciones son \"over_sample\" y \"under_sample\".\n",
    "        \"\"\"\n",
    "\n",
    "        self.path_etiquetas = path_etiquetas\n",
    "        self.path_info_clientes = path_info_clientes\n",
    "        self.path_hist_transacciones = path_hist_transacciones\n",
    "        self.test_size = test_size\n",
    "\n",
    "        if balance_strategy is not None:\n",
    "            assert balance_strategy.lower() in [\"over_sample\", \"under_sample\"], \"Las opciones válidas para el balance strategy son 'over_sample' y 'under_sample'.\"\n",
    "        self.balance_strategy = balance_strategy\n",
    "\n",
    "    def codificar_categoricas(self,\n",
    "            X:np.ndarray\n",
    "        ):\n",
    "        \"\"\"\n",
    "        Método que codifica las variables categoricas del conjunto de datos\n",
    "        en columnas de variables indicadoras\n",
    "\n",
    "        Args:\n",
    "        ----------\n",
    "            X:np.ndarray\n",
    "                Arreglo multidimensional con las observaciones de las variables independientes\n",
    "        \"\"\"\n",
    "        genero = X[:,1]\n",
    "        self.genero_encoder = CategoricalEncoder()\n",
    "        genero_encoded = self.genero_encoder.fit_transform(genero)\n",
    "\n",
    "        educacion = X[:,2]\n",
    "        self.educacion_encoder = CategoricalEncoder()\n",
    "        educacion_encoded = self.educacion_encoder.fit_transform(educacion)\n",
    "\n",
    "        estado_civil = X[:,3]\n",
    "        self.estado_civil_encoder = CategoricalEncoder()\n",
    "        estado_civil_encoded = self.estado_civil_encoder.fit_transform(estado_civil)\n",
    "\n",
    "        X = np.delete(X,[1,2,3],1)\n",
    "        X = np.concatenate([X,genero_encoded], axis=1)\n",
    "        X = np.concatenate([X,educacion_encoded], axis=1)\n",
    "        X = np.concatenate([X,estado_civil_encoded], axis=1)\n",
    "        \n",
    "        return X\n",
    "    \n",
    "    def preprocess(self):\n",
    "        \"\"\"\n",
    "        Método que preprocesa los datos y devuelve los conjuntos de entrenamiento y prueba\n",
    "        \"\"\"\n",
    "\n",
    "        df = obtener_datos(self.path_etiquetas, self.path_info_clientes, self.path_hist_transacciones)\n",
    "        data = df.to_numpy()\n",
    "        X,y = data[:,:-1], data[:,-1].astype('int')\n",
    "\n",
    "        X = self.codificar_categoricas(X)\n",
    "        \n",
    "        self.scaler = StandardScaler()\n",
    "        X = self.scaler.fit_transform(X_encoded)\n",
    "        \n",
    "        X_train, X_test, y_train, y_test = train_test_split(X,y,test_size=self.test_size, random_state=1)\n",
    "\n",
    "        if self.balance_strategy is not None:\n",
    "            if self.balance_strategy.lower() == 'over_sample':\n",
    "                over_sampler = SMOTE(random_state=1)\n",
    "                X_train, y_train = over_sampler.fit_resample(X_train, y_train)\n",
    "            \n",
    "            if self.balance_strategy.lower() == 'under_sample':\n",
    "                under_sampler = RandomUnderSampler(random_state=1)\n",
    "                X_train, y_train = under_sampler.fit_resample(X_train, y_train)\n",
    "\n",
    "        return X_train, X_test, y_train, y_test"
   ]
  },
  {
   "cell_type": "code",
   "execution_count": 51,
   "metadata": {},
   "outputs": [],
   "source": [
    "path_etiquetas = os.path.join(home_path, 'data', 'etiquetas.csv')\n",
    "path_info_clientes = os.path.join(home_path, 'data', 'informacion_clientes.csv')\n",
    "path_hist_transacciones = os.path.join(home_path, 'data', 'historial_transacciones.csv')\n",
    "\n",
    "clasificador = ClasificadorMora(\n",
    "    path_etiquetas,\n",
    "    path_info_clientes,\n",
    "    path_hist_transacciones    \n",
    ")\n",
    "\n",
    "X_train, X_test, y_train, y_test = clasificador.preprocess()"
   ]
  },
  {
   "cell_type": "code",
   "execution_count": 52,
   "metadata": {},
   "outputs": [
    {
     "data": {
      "text/plain": [
       "array([[-1.13754196,  0.38246756,  0.25514665, ..., -0.91632109,\n",
       "        -0.10155599,  0.93917928],\n",
       "       [-1.13754196,  1.03394592, -1.47833377, ...,  1.09132051,\n",
       "        -0.10155599, -1.06475944],\n",
       "       [ 2.24825754, -0.37759052,  0.25514665, ..., -0.91632109,\n",
       "        -0.10155599,  0.93917928],\n",
       "       ...,\n",
       "       [ 0.94010773,  0.27388784,  0.25514665, ...,  1.09132051,\n",
       "        -0.10155599, -1.06475944],\n",
       "       [-0.29109209, -0.92048916, -1.47833377, ..., -0.91632109,\n",
       "        -0.10155599,  0.93917928],\n",
       "       [ 1.86350759,  0.05672838, -0.61159356, ...,  1.09132051,\n",
       "        -0.10155599, -1.06475944]])"
      ]
     },
     "execution_count": 52,
     "metadata": {},
     "output_type": "execute_result"
    }
   ],
   "source": [
    "X_train"
   ]
  },
  {
   "cell_type": "code",
   "execution_count": 53,
   "metadata": {},
   "outputs": [
    {
     "data": {
      "text/plain": [
       "Counter({1: 4247, 0: 14953})"
      ]
     },
     "execution_count": 53,
     "metadata": {},
     "output_type": "execute_result"
    }
   ],
   "source": [
    "Counter(y_train)"
   ]
  }
 ],
 "metadata": {
  "kernelspec": {
   "display_name": "tensorflow_3.9",
   "language": "python",
   "name": "tensorflow_3.9"
  },
  "language_info": {
   "codemirror_mode": {
    "name": "ipython",
    "version": 3
   },
   "file_extension": ".py",
   "mimetype": "text/x-python",
   "name": "python",
   "nbconvert_exporter": "python",
   "pygments_lexer": "ipython3",
   "version": "3.9.12"
  },
  "orig_nbformat": 4
 },
 "nbformat": 4,
 "nbformat_minor": 2
}
