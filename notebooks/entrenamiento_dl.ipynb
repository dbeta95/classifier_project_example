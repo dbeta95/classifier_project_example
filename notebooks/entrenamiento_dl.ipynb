{
 "cells": [
  {
   "cell_type": "code",
   "execution_count": 12,
   "metadata": {},
   "outputs": [],
   "source": [
    "import os\n",
    "import sys\n",
    "import json\n",
    "\n",
    "import numpy as np\n",
    "import tensorflow as tf\n",
    "from keras import layers\n",
    "\n",
    "from sklearn.metrics import (\n",
    "    mean_squared_error, \n",
    "    accuracy_score, \n",
    "    recall_score\n",
    ")\n",
    "\n",
    "from sklearn.model_selection import(\n",
    "    StratifiedKFold,\n",
    "    GridSearchCV,\n",
    "    RandomizedSearchCV,\n",
    "    train_test_split\n",
    ")\n",
    "\n",
    "home_path = os.path.dirname(os.getcwd())\n",
    "sys.path.append(home_path)\n",
    "\n",
    "source_path = os.path.join(os.path.dirname(os.getcwd()),'src')\n",
    "sys.path.append(source_path)\n",
    "\n",
    "from src.model_management import ClasificadorMora, obtener_threshold, evaluar_clasificador\n",
    "\n",
    "path_etiquetas = os.path.join(home_path, 'data', 'etiquetas.csv')\n",
    "path_info_clientes = os.path.join(home_path, 'data', 'informacion_clientes.csv')\n",
    "path_hist_transacciones = os.path.join(home_path, 'data', 'historial_transacciones.csv')"
   ]
  },
  {
   "cell_type": "code",
   "execution_count": 153,
   "metadata": {},
   "outputs": [],
   "source": [
    "clasificador = ClasificadorMora(\n",
    "    path_etiquetas,\n",
    "    path_info_clientes,\n",
    "    path_hist_transacciones    \n",
    ")\n",
    "\n",
    "X_train, X_test, y_train, y_test = clasificador.preprocess()\n",
    "\n",
    "eval_metrics = {\n",
    "    \"rmse\":\"neg_root_mean_squared_error\",\n",
    "    \"accuracy\":\"accuracy\",\n",
    "    \"recall\":\"recall\"\n",
    "}"
   ]
  },
  {
   "cell_type": "code",
   "execution_count": 4,
   "metadata": {},
   "outputs": [
    {
     "data": {
      "text/plain": [
       "(19200, 33)"
      ]
     },
     "execution_count": 4,
     "metadata": {},
     "output_type": "execute_result"
    }
   ],
   "source": [
    "X_train.shape"
   ]
  },
  {
   "cell_type": "code",
   "execution_count": 154,
   "metadata": {},
   "outputs": [],
   "source": [
    "X_train, X_val, y_train, y_val = train_test_split(X_train,y_train,test_size=0.2)"
   ]
  },
  {
   "cell_type": "code",
   "execution_count": 7,
   "metadata": {},
   "outputs": [
    {
     "data": {
      "text/plain": [
       "(15360, 33)"
      ]
     },
     "execution_count": 7,
     "metadata": {},
     "output_type": "execute_result"
    }
   ],
   "source": [
    "X_train.shape"
   ]
  },
  {
   "cell_type": "code",
   "execution_count": 155,
   "metadata": {},
   "outputs": [],
   "source": [
    "red1 = tf.keras.models.Sequential()\n",
    "red1.add(tf.keras.layers.Dense(32, activation='relu', input_shape=(33,)))\n",
    "red1.add(tf.keras.layers.Dense(32, activation='relu'))\n",
    "red1.add(tf.keras.layers.Dense(1, activation='sigmoid'))"
   ]
  },
  {
   "cell_type": "code",
   "execution_count": 156,
   "metadata": {},
   "outputs": [],
   "source": [
    "red1.compile(optimizer='adam',\n",
    "             loss='binary_crossentropy',\n",
    "             metrics='accuracy')"
   ]
  },
  {
   "cell_type": "code",
   "execution_count": 203,
   "metadata": {},
   "outputs": [
    {
     "name": "stdout",
     "output_type": "stream",
     "text": [
      "Epoch 1/22\n",
      "30/30 [==============================] - 0s 7ms/step - loss: 0.4272 - accuracy: 0.8227 - val_loss: 0.4437 - val_accuracy: 0.8190\n",
      "Epoch 2/22\n",
      "30/30 [==============================] - 0s 5ms/step - loss: 0.4262 - accuracy: 0.8230 - val_loss: 0.4430 - val_accuracy: 0.8203\n",
      "Epoch 3/22\n",
      "30/30 [==============================] - 0s 7ms/step - loss: 0.4259 - accuracy: 0.8234 - val_loss: 0.4425 - val_accuracy: 0.8201\n",
      "Epoch 4/22\n",
      "30/30 [==============================] - 0s 7ms/step - loss: 0.4244 - accuracy: 0.8243 - val_loss: 0.4424 - val_accuracy: 0.8193\n",
      "Epoch 5/22\n",
      "30/30 [==============================] - 0s 5ms/step - loss: 0.4244 - accuracy: 0.8233 - val_loss: 0.4417 - val_accuracy: 0.8211\n",
      "Epoch 6/22\n",
      "30/30 [==============================] - 0s 5ms/step - loss: 0.4237 - accuracy: 0.8234 - val_loss: 0.4426 - val_accuracy: 0.8206\n",
      "Epoch 7/22\n",
      "30/30 [==============================] - 0s 4ms/step - loss: 0.4227 - accuracy: 0.8242 - val_loss: 0.4418 - val_accuracy: 0.8195\n",
      "Epoch 8/22\n",
      "30/30 [==============================] - 0s 4ms/step - loss: 0.4223 - accuracy: 0.8253 - val_loss: 0.4443 - val_accuracy: 0.8188\n",
      "Epoch 9/22\n",
      "30/30 [==============================] - 0s 4ms/step - loss: 0.4221 - accuracy: 0.8241 - val_loss: 0.4436 - val_accuracy: 0.8177\n",
      "Epoch 10/22\n",
      "30/30 [==============================] - 0s 4ms/step - loss: 0.4217 - accuracy: 0.8240 - val_loss: 0.4425 - val_accuracy: 0.8195\n",
      "Epoch 11/22\n",
      "30/30 [==============================] - 0s 4ms/step - loss: 0.4212 - accuracy: 0.8249 - val_loss: 0.4411 - val_accuracy: 0.8214\n",
      "Epoch 12/22\n",
      "30/30 [==============================] - 0s 3ms/step - loss: 0.4203 - accuracy: 0.8244 - val_loss: 0.4407 - val_accuracy: 0.8214\n",
      "Epoch 13/22\n",
      "30/30 [==============================] - 0s 4ms/step - loss: 0.4199 - accuracy: 0.8255 - val_loss: 0.4409 - val_accuracy: 0.8216\n",
      "Epoch 14/22\n",
      "30/30 [==============================] - 0s 4ms/step - loss: 0.4194 - accuracy: 0.8256 - val_loss: 0.4410 - val_accuracy: 0.8214\n",
      "Epoch 15/22\n",
      "30/30 [==============================] - 0s 3ms/step - loss: 0.4189 - accuracy: 0.8257 - val_loss: 0.4410 - val_accuracy: 0.8201\n",
      "Epoch 16/22\n",
      "30/30 [==============================] - 0s 3ms/step - loss: 0.4185 - accuracy: 0.8244 - val_loss: 0.4398 - val_accuracy: 0.8221\n",
      "Epoch 17/22\n",
      "30/30 [==============================] - 0s 3ms/step - loss: 0.4181 - accuracy: 0.8258 - val_loss: 0.4399 - val_accuracy: 0.8201\n",
      "Epoch 18/22\n",
      "30/30 [==============================] - 0s 3ms/step - loss: 0.4179 - accuracy: 0.8256 - val_loss: 0.4406 - val_accuracy: 0.8216\n",
      "Epoch 19/22\n",
      "30/30 [==============================] - 0s 3ms/step - loss: 0.4171 - accuracy: 0.8255 - val_loss: 0.4388 - val_accuracy: 0.8206\n",
      "Epoch 20/22\n",
      "30/30 [==============================] - 0s 3ms/step - loss: 0.4174 - accuracy: 0.8251 - val_loss: 0.4393 - val_accuracy: 0.8214\n",
      "Epoch 21/22\n",
      "30/30 [==============================] - 0s 3ms/step - loss: 0.4167 - accuracy: 0.8258 - val_loss: 0.4392 - val_accuracy: 0.8232\n",
      "Epoch 22/22\n",
      "30/30 [==============================] - 0s 3ms/step - loss: 0.4162 - accuracy: 0.8255 - val_loss: 0.4384 - val_accuracy: 0.8221\n"
     ]
    }
   ],
   "source": [
    "history1 = red1.fit(X_train,\n",
    "                    y_train,\n",
    "                    epochs=22,\n",
    "                    batch_size=512,\n",
    "                    validation_data=(X_val,y_val))"
   ]
  },
  {
   "cell_type": "code",
   "execution_count": 17,
   "metadata": {},
   "outputs": [
    {
     "data": {
      "image/png": "[encoded data removed]",
      "text/plain": [
       "<Figure size 432x288 with 1 Axes>"
      ]
     },
     "metadata": {
      "needs_background": "light"
     },
     "output_type": "display_data"
    }
   ],
   "source": [
    "import matplotlib.pyplot as plt\n",
    "\n",
    "history_dict = history1.history\n",
    "loss_values = history_dict['loss']\n",
    "val_loss_values = history_dict['val_loss']\n",
    "\n",
    "epoch = range(1,len(loss_values)+1)\n",
    "\n",
    "plt.plot(epoch,loss_values, 'o', label = 'training')\n",
    "plt.plot(epoch,val_loss_values, '--', label = 'validation')\n",
    "plt.legend()\n",
    "plt.show()"
   ]
  },
  {
   "cell_type": "code",
   "execution_count": 15,
   "metadata": {},
   "outputs": [
    {
     "data": {
      "text/plain": [
       "22"
      ]
     },
     "execution_count": 15,
     "metadata": {},
     "output_type": "execute_result"
    }
   ],
   "source": [
    "np.argmin(history_dict['val_loss'])"
   ]
  },
  {
   "cell_type": "code",
   "execution_count": 218,
   "metadata": {},
   "outputs": [],
   "source": [
    "tf.config.set_soft_device_placement(True)\n",
    "tf.debugging.set_log_device_placement(True)\n",
    "\n",
    "class NNClassifier(tf.keras.Model):\n",
    "\n",
    "    def __init__(self,input_shape:tuple,l1:int=32,dropout_rate:float=0.5,regularizer=None,**kwargs):\n",
    "        \"\"\"\n",
    "        Instantiation method for the network.\n",
    "\n",
    "        Parameters:\n",
    "        ----------\n",
    "            - l1: int\n",
    "                Number of nodes in the first dense layer\n",
    "            - dropout_rate:float\n",
    "                Precentage of nodes to turn of between layers\n",
    "            - regularizer:str\n",
    "                Regularizer to penalize de loss function.\n",
    "        \"\"\"\n",
    "        super(NNClassifier,self).__init__(**kwargs)           \n",
    "        self.dense_1 = layers.Dense(l1, activation='relu', input_shape=input_shape, kernel_regularizer=regularizer)\n",
    "        self.dropout1 = layers.Dropout(dropout_rate)\n",
    "        self.dense_2 = layers.Dense(input_shape[0], activation='relu', kernel_regularizer=regularizer)\n",
    "        self.dropout2 = layers.Dropout(dropout_rate)        \n",
    "        self.normalizer1 = layers.BatchNormalization()\n",
    "        self.normalizer2 = layers.BatchNormalization()\n",
    "        self.add = layers.Add()        \n",
    "        self.relu = layers.ReLU()\n",
    "        self.dense_3 = layers.Dense(1, activation='sigmoid')\n",
    "\n",
    "    def call(self,input):\n",
    "        with tf.device('/device:GPU:0'):\n",
    "            a1 = self.dense_1(input)\n",
    "            a1 = self.dropout1(a1)\n",
    "            a1 = self.normalizer1(a1)\n",
    "            a2 = self.dense_2(a1)\n",
    "            a2 = self.dropout2(a2)\n",
    "            a2 = self.normalizer2(a2)\n",
    "            x = self.add([a2,input])\n",
    "            return self.dense_3(x)"
   ]
  },
  {
   "cell_type": "code",
   "execution_count": 206,
   "metadata": {},
   "outputs": [
    {
     "data": {
      "text/plain": [
       "[LogicalDevice(name='/device:GPU:0', device_type='GPU')]"
      ]
     },
     "execution_count": 206,
     "metadata": {},
     "output_type": "execute_result"
    }
   ],
   "source": [
    "tf.config.list_logical_devices('GPU')"
   ]
  },
  {
   "cell_type": "code",
   "execution_count": 214,
   "metadata": {},
   "outputs": [],
   "source": [
    "red2 = NNClassifier(input_shape=(33,))\n",
    "#_ = red2()\n",
    "red2.compile(optimizer='adam',\n",
    "             loss='binary_crossentropy',\n",
    "             metrics='accuracy')"
   ]
  },
  {
   "cell_type": "code",
   "execution_count": 215,
   "metadata": {},
   "outputs": [
    {
     "name": "stdout",
     "output_type": "stream",
     "text": [
      "Epoch 1/25\n",
      "120/120 [==============================] - 2s 8ms/step - loss: 0.7305 - accuracy: 0.6048 - val_loss: 0.5811 - val_accuracy: 0.7500\n",
      "Epoch 2/25\n",
      "120/120 [==============================] - 1s 5ms/step - loss: 0.5762 - accuracy: 0.7377 - val_loss: 0.5063 - val_accuracy: 0.7906\n",
      "Epoch 3/25\n",
      "120/120 [==============================] - 1s 5ms/step - loss: 0.5250 - accuracy: 0.7798 - val_loss: 0.4801 - val_accuracy: 0.7917\n",
      "Epoch 4/25\n",
      "120/120 [==============================] - 1s 5ms/step - loss: 0.4938 - accuracy: 0.7952 - val_loss: 0.4710 - val_accuracy: 0.7953\n",
      "Epoch 5/25\n",
      "120/120 [==============================] - 1s 4ms/step - loss: 0.4849 - accuracy: 0.7973 - val_loss: 0.4662 - val_accuracy: 0.7964\n",
      "Epoch 6/25\n",
      "120/120 [==============================] - 0s 4ms/step - loss: 0.4766 - accuracy: 0.8003 - val_loss: 0.4632 - val_accuracy: 0.7982\n",
      "Epoch 7/25\n",
      "120/120 [==============================] - 1s 4ms/step - loss: 0.4713 - accuracy: 0.8048 - val_loss: 0.4614 - val_accuracy: 0.7995\n",
      "Epoch 8/25\n",
      "120/120 [==============================] - 0s 4ms/step - loss: 0.4666 - accuracy: 0.8068 - val_loss: 0.4601 - val_accuracy: 0.7979\n",
      "Epoch 9/25\n",
      "120/120 [==============================] - 0s 4ms/step - loss: 0.4607 - accuracy: 0.8079 - val_loss: 0.4569 - val_accuracy: 0.8036\n",
      "Epoch 10/25\n",
      "120/120 [==============================] - 1s 4ms/step - loss: 0.4627 - accuracy: 0.8068 - val_loss: 0.4564 - val_accuracy: 0.8029\n",
      "Epoch 11/25\n",
      "120/120 [==============================] - 0s 4ms/step - loss: 0.4581 - accuracy: 0.8089 - val_loss: 0.4555 - val_accuracy: 0.8039\n",
      "Epoch 12/25\n",
      "120/120 [==============================] - 1s 5ms/step - loss: 0.4590 - accuracy: 0.8079 - val_loss: 0.4551 - val_accuracy: 0.8008\n",
      "Epoch 13/25\n",
      "120/120 [==============================] - 1s 4ms/step - loss: 0.4537 - accuracy: 0.8117 - val_loss: 0.4526 - val_accuracy: 0.8073\n",
      "Epoch 14/25\n",
      "120/120 [==============================] - 1s 4ms/step - loss: 0.4532 - accuracy: 0.8110 - val_loss: 0.4523 - val_accuracy: 0.8060\n",
      "Epoch 15/25\n",
      "120/120 [==============================] - 1s 4ms/step - loss: 0.4532 - accuracy: 0.8111 - val_loss: 0.4519 - val_accuracy: 0.8060\n",
      "Epoch 16/25\n",
      "120/120 [==============================] - 0s 4ms/step - loss: 0.4496 - accuracy: 0.8143 - val_loss: 0.4505 - val_accuracy: 0.8128\n",
      "Epoch 17/25\n",
      "120/120 [==============================] - 1s 4ms/step - loss: 0.4510 - accuracy: 0.8124 - val_loss: 0.4507 - val_accuracy: 0.8078\n",
      "Epoch 18/25\n",
      "120/120 [==============================] - 0s 4ms/step - loss: 0.4494 - accuracy: 0.8109 - val_loss: 0.4501 - val_accuracy: 0.8086\n",
      "Epoch 19/25\n",
      "120/120 [==============================] - 0s 4ms/step - loss: 0.4481 - accuracy: 0.8152 - val_loss: 0.4493 - val_accuracy: 0.8104\n",
      "Epoch 20/25\n",
      "120/120 [==============================] - 0s 4ms/step - loss: 0.4486 - accuracy: 0.8131 - val_loss: 0.4485 - val_accuracy: 0.8096\n",
      "Epoch 21/25\n",
      "120/120 [==============================] - 0s 4ms/step - loss: 0.4483 - accuracy: 0.8120 - val_loss: 0.4483 - val_accuracy: 0.8091\n",
      "Epoch 22/25\n",
      "120/120 [==============================] - 1s 4ms/step - loss: 0.4436 - accuracy: 0.8147 - val_loss: 0.4473 - val_accuracy: 0.8130\n",
      "Epoch 23/25\n",
      "120/120 [==============================] - 0s 4ms/step - loss: 0.4445 - accuracy: 0.8150 - val_loss: 0.4467 - val_accuracy: 0.8156\n",
      "Epoch 24/25\n",
      "120/120 [==============================] - 0s 4ms/step - loss: 0.4439 - accuracy: 0.8147 - val_loss: 0.4464 - val_accuracy: 0.8148\n",
      "Epoch 25/25\n",
      "120/120 [==============================] - 0s 4ms/step - loss: 0.4449 - accuracy: 0.8168 - val_loss: 0.4468 - val_accuracy: 0.8148\n"
     ]
    }
   ],
   "source": [
    "#gpu = tf.config.list_logical_devices('GPU')\n",
    "#with tf.device(gpu[0][0]):\n",
    "history2 = red2.fit(X_train,\n",
    "                    y_train,\n",
    "                    epochs=25,\n",
    "                    batch_size=128,\n",
    "                    validation_data=(X_val,y_val))"
   ]
  },
  {
   "cell_type": "code",
   "execution_count": 136,
   "metadata": {},
   "outputs": [
    {
     "name": "stdout",
     "output_type": "stream",
     "text": [
      "150/150 [==============================] - 1s 4ms/step - loss: 0.4308 - accuracy: 0.8208\n"
     ]
    },
    {
     "data": {
      "text/plain": [
       "[0.43078136444091797, 0.8208333253860474]"
      ]
     },
     "execution_count": 136,
     "metadata": {},
     "output_type": "execute_result"
    }
   ],
   "source": [
    "red2.evaluate(X_test, y_test)"
   ]
  },
  {
   "cell_type": "code",
   "execution_count": 68,
   "metadata": {},
   "outputs": [
    {
     "data": {
      "image/png": "[encoded data removed]",
      "text/plain": [
       "<Figure size 432x288 with 1 Axes>"
      ]
     },
     "metadata": {
      "needs_background": "light"
     },
     "output_type": "display_data"
    }
   ],
   "source": [
    "import matplotlib.pyplot as plt\n",
    "history_dict = history2.history\n",
    "loss_values = history_dict['loss']\n",
    "val_loss_values = history_dict['val_loss']\n",
    "\n",
    "epoch = range(1,len(loss_values)+1)\n",
    "\n",
    "plt.plot(epoch,loss_values, 'o', label = 'training')\n",
    "plt.plot(epoch,val_loss_values, '--', label = 'validation')\n",
    "plt.legend()\n",
    "plt.show()"
   ]
  },
  {
   "cell_type": "code",
   "execution_count": 293,
   "metadata": {},
   "outputs": [],
   "source": [
    "from typing import Any, List\n",
    "from sklearn.model_selection import ParameterGrid\n",
    "\n",
    "class NNGridSearchCV():\n",
    "\n",
    "    def __init__(self, \n",
    "        model_class:any,\n",
    "        input_shape:tuple,\n",
    "        loss:str, \n",
    "        metrics:List[str], \n",
    "        target:str, \n",
    "        param_distribution:dict, \n",
    "        cv:Any, \n",
    "        epochs:int=100,\n",
    "        verbose:int=1\n",
    "    ):\n",
    "\n",
    "        self.model_class = model_class\n",
    "        self.input_shape = input_shape\n",
    "        self.param_distribution = param_distribution\n",
    "        self.loss = loss\n",
    "        assert target in metrics,\"The target metric must be one of the metrics to be evaluated\"\n",
    "        if not isinstance(metrics, list):\n",
    "            metrics = [metrics]\n",
    "        self.metrics = metrics\n",
    "        self.target = target\n",
    "        self.epochs = epochs\n",
    "        self.cv = [(train_index, val_index) for train_index, val_index in cv]\n",
    "        self.verbose = verbose\n",
    "\n",
    "    def initialize_model(self, **kwargs):\n",
    "        \n",
    "        kwargs_model = {\n",
    "            key:value for key,value in kwargs.items() if key in self.model_class.__init__.__code__.co_varnames\n",
    "        }\n",
    "\n",
    "        self.kwargs_fit = {\n",
    "            key:value for key,value in kwargs.items() if key not in self.model_class.__init__.__code__.co_varnames\n",
    "        }\n",
    "\n",
    "        self.model = self.model_class(input_shape = self.input_shape, **kwargs_model)\n",
    "\n",
    "        optimizer=kwargs.get(\"optimizer\")\n",
    "        if not optimizer:\n",
    "            optimizer = 'adam'\n",
    "\n",
    "        self.model.compile(\n",
    "            optimizer=optimizer,\n",
    "            loss=self.loss,\n",
    "            metrics=self.metrics\n",
    "        )\n",
    "        \n",
    "\n",
    "    def fit(self,X,y):\n",
    "\n",
    "        self.history = {\n",
    "            'parameters':[],\n",
    "            'history':[],\n",
    "            'loss':[],\n",
    "            'epochs':[]\n",
    "        }\n",
    "        metrics_dict = {metric:[] for metric in self.metrics}\n",
    "        self.history.update(metrics_dict)\n",
    "        \n",
    "        for parameters in ParameterGrid(param_grid=self.param_distribution):\n",
    "            \n",
    "            if self.verbose:\n",
    "                print(f\"Training with parameters:\\n{parameters}\")\n",
    "            \n",
    "            self.history['parameters'].append(parameters)\n",
    "            params_history = {\n",
    "                'loss':[]\n",
    "            }\n",
    "            params_history.update({metric:[] for metric in self.metrics})\n",
    "\n",
    "            fold = 0\n",
    "\n",
    "            for train_index, val_index in self.cv:\n",
    "\n",
    "                fold += 1\n",
    "                if self.verbose:\n",
    "                    print(f\"Fold: {fold}\")\n",
    "                \n",
    "                X_train = X[train_index]\n",
    "                y_train = y[train_index]\n",
    "\n",
    "                X_val = X[val_index]\n",
    "                y_val = y[val_index]\n",
    "                self.initialize_model(**parameters)\n",
    "                \n",
    "                fit_results = self.model.fit(\n",
    "                    X_train,\n",
    "                    y_train,\n",
    "                    validation_data = (X_val, y_val),\n",
    "                    epochs = self.epochs,\n",
    "                    **self.kwargs_fit,\n",
    "                    verbose = 0\n",
    "                )\n",
    "\n",
    "                params_history['loss'].append(fit_results.history.get('val_loss'))\n",
    "                for metric in self.metrics:\n",
    "                    metric_name = 'val_'+metric\n",
    "                    params_history[metric].append(fit_results.history.get(metric_name))     \n",
    "            \n",
    "            history_mean = {\n",
    "                key : np.mean(values, axis=0) for key, values in params_history.items()\n",
    "            }\n",
    "            \n",
    "            self.history['history'].append(history_mean)\n",
    "\n",
    "            index_best = np.argmax(history_mean.get(self.target))\n",
    "\n",
    "            for key,values in history_mean.items():\n",
    "                self.history[key].append(values[index_best])\n",
    "\n",
    "            self.history['epochs'].append(index_best+1)\n",
    "\n",
    "        best_params_index = np.argmax(self.history.get(self.target))\n",
    "        self.best_parameters = self.history.get('parameters')[best_params_index]\n",
    "\n",
    "        for key, values in self.history.items():\n",
    "            if key in self.metrics:\n",
    "                exec(\"self.best_\" + key + \"= values[best_params_index]\")\n",
    "\n",
    "        self.best_epochs = best_params_index + 1"
   ]
  },
  {
   "cell_type": "code",
   "execution_count": 294,
   "metadata": {},
   "outputs": [
    {
     "name": "stdout",
     "output_type": "stream",
     "text": [
      "Training with parameters:\n",
      "{'dropout_rate': 0.3, 'l1': 16}\n",
      "Fold: 1\n",
      "Fold: 2\n",
      "Training with parameters:\n",
      "{'dropout_rate': 0.3, 'l1': 32}\n",
      "Fold: 1\n",
      "Fold: 2\n",
      "Training with parameters:\n",
      "{'dropout_rate': 0.3, 'l1': 64}\n",
      "Fold: 1\n",
      "Fold: 2\n",
      "Training with parameters:\n",
      "{'dropout_rate': 0.5, 'l1': 16}\n",
      "Fold: 1\n",
      "Fold: 2\n",
      "Training with parameters:\n",
      "{'dropout_rate': 0.5, 'l1': 32}\n",
      "Fold: 1\n",
      "Fold: 2\n",
      "Training with parameters:\n",
      "{'dropout_rate': 0.5, 'l1': 64}\n",
      "Fold: 1\n",
      "Fold: 2\n"
     ]
    }
   ],
   "source": [
    "X_train, X_test, y_train, y_test = clasificador.preprocess()\n",
    "\n",
    "params_distribution = {\n",
    "    'l1':[16,32,64],\n",
    "    'dropout_rate':[0.3,0.5]\n",
    "}\n",
    "cv_spliter = StratifiedKFold(2, shuffle=True)\n",
    "\n",
    "nn_tunning = NNGridSearchCV(\n",
    "    model_class = NNClassifier,\n",
    "    input_shape = (33,),\n",
    "    loss='binary_crossentropy',\n",
    "    metrics='accuracy',\n",
    "    target='accuracy',\n",
    "    param_distribution=params_distribution,\n",
    "    cv=cv_spliter.split(X_train, y_train),\n",
    "    epochs=1\n",
    ")\n",
    "nn_tunning.fit(X_train, y_train)"
   ]
  }
 ],
 "metadata": {
  "kernelspec": {
   "display_name": "Python 3",
   "language": "python",
   "name": "python3"
  },
  "language_info": {
   "codemirror_mode": {
    "name": "ipython",
    "version": 3
   },
   "file_extension": ".py",
   "mimetype": "text/x-python",
   "name": "python",
   "nbconvert_exporter": "python",
   "pygments_lexer": "ipython3",
   "version": "3.9.12"
  },
  "orig_nbformat": 4
 },
 "nbformat": 4,
 "nbformat_minor": 2
}
